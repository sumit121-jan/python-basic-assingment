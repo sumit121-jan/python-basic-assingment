{
  "nbformat": 4,
  "nbformat_minor": 0,
  "metadata": {
    "colab": {
      "provenance": []
    },
    "kernelspec": {
      "name": "python3",
      "display_name": "Python 3"
    },
    "language_info": {
      "name": "python"
    }
  },
  "cells": [
    {
      "cell_type": "markdown",
      "source": [
        "**Python basics questions**"
      ],
      "metadata": {
        "id": "YYb0TT4r9IYS"
      }
    },
    {
      "cell_type": "markdown",
      "source": [
        "question- 1. What is python, and why is it popular?\n",
        "\n",
        "answer- Python is a popular programming language because it's versatile, easy to learn, and can be used for many purposes\n",
        "1. Efficiency: Python is efficient and can increase development speed.\n",
        "2. Flexibility: Python is a general-purpose language that can be used for a  \n",
        "   wide range of applications.\n",
        "3. Beginner-friendly: Python is considered easy to learn.\n",
        "4. Community: Python has a large and active community that can help with\n",
        "   questions and projects.\n",
        "5. Libraries: Python has many libraries for specific tasks, such as machine\n",
        "   learning, data science, and cybersecurity.\n",
        "6. Automation: Python can automate repetitive tasks, such as file handling, web\n",
        "   scraping, and software testing.\n",
        "7. Integration: Python integrates well with many different systems.\n",
        "#   Free: Python software is free to download."
      ],
      "metadata": {
        "id": "2_JtzW8gLMVu"
      }
    },
    {
      "cell_type": "markdown",
      "source": [
        "question-2. What is an interpreter in python?\n",
        "\n",
        "answer-A Python interpreter is a computer program that translates Python code into machine code that a computer can understand:\n",
        "\n",
        "1. How it works\n",
        "   The interpreter reads the source code, breaks it down into tokens, and checks the syntax. If the code is syntactically correct, the interpreter generates bytecode, which is a lower-level representation of the code. The Python Virtual Machine (PVM) then executes the bytecode to perform the specified operations and generate the output.\n",
        "2. What it's used for\n",
        "   The interpreter is installed on your computer and looks at and runs your Python code. You can use the interpreter in interactive mode, where it prompts for the next command with the primary prompt, usually three greater-than signs (>>>).\n",
        "3. What it's different from a compiler\n",
        "   A compiler also translates high-level code into machine code, but before execution. An interpreter translates the code into instructions that the computer can understand, executing them line by line."
      ],
      "metadata": {
        "id": "chPR7wC9MFyF"
      }
    },
    {
      "cell_type": "markdown",
      "source": [
        "question-3 What are pre- defined keyboards in python?\n",
        "\n",
        "answer- Keywords are predefined, reserved words used in Python programming that have special meanings to the compiler. We cannot use a keyword as a variable name, function name, or any other identifier. They are used to define the syntax and structure of the Python language."
      ],
      "metadata": {
        "id": "vdI-x8dhSaUQ"
      }
    },
    {
      "cell_type": "markdown",
      "source": [
        "4. can keywords be used as variable names?\n",
        "\n",
        "answer- No, keywords cannot be used as variable names in computer programming:\n",
        "Explanation\n",
        "Keywords are reserved words that define the structure and syntax rules of a language. They are used to recognize the structure of a program.\n",
        "Examples\n",
        "In Python, some keywords include:\n",
        "and\n",
        "\n",
        "*  del\n",
        "*  from\n",
        "*  None\n",
        "*  True\n",
        "*  as\n",
        "*  elif\n",
        "*  global\n",
        "*  nonlocal\n",
        "*  try"
      ],
      "metadata": {
        "id": "OlA8FSkhT2t5"
      }
    },
    {
      "cell_type": "markdown",
      "source": [
        "question-5 what is mutabillity in python?\n",
        "\n",
        "\n",
        "answer- In Python, mutability refers to the ability to change an object's value or state after it has been created. Mutable objects can be modified in terms of their contents or state, and any operation that modifies a mutable object will modify the original object itself.\n",
        "Here are some examples of mutable objects in Python:\n",
        "\n",
        "1. Lists\n",
        "   You can add, remove, or update the values of a list without creating a new list. For example, you can use the pop() method to remove an element from the end of a list.\n",
        "2. Dictionaries\n",
        "   You can add key-value pairs to a dictionary. For example, you can add a key-value pair to a dictionary by using my_dict[4] = 'guava'.\n"
      ],
      "metadata": {
        "id": "BhBblFObUoMy"
      }
    },
    {
      "cell_type": "markdown",
      "source": [
        "question-6 Why are lists mutable, but tuples are immutable?\n",
        "\n",
        "\n",
        "answer- The main difference between tuples and lists is that tuples are immutable, meaning their contents cannot be changed after creation, while lists are mutable and can be modified. Additionally, tuples are more memory-efficient compared to lists. Tuples can't be changed after they're created, but lists can be modified."
      ],
      "metadata": {
        "id": "qc1MVSMfVdSg"
      }
    },
    {
      "cell_type": "markdown",
      "source": [
        "question-7 What is the diffrence between \"==\" and \"is\" operators in python?\n",
        "\n",
        "\n",
        "answer- In Python, the \"==\" operator compares the values of objects for equality, while the \"is\" operator checks if two variables reference the same object in memory:\n",
        "==\n",
        "The equality operator compares the equality of objects. It returns \"true\" if the values of both operands are equal.\n",
        "is\n",
        "The identity operator checks if different variables point to the same object in memory. It evaluates to \"true\" if the variables on either side of the operator point to the same object."
      ],
      "metadata": {
        "id": "KKJOTrqmWNcx"
      }
    },
    {
      "cell_type": "markdown",
      "source": [
        "question-8 what are logical operators in python?\n",
        "\n",
        "\n",
        "answer- In Python, logical operators are symbols or keywords that are used to: Combine and modify Boolean values, Make decisions, Define complex conditions, and Improve the flexibility and complexity of logical expressions.\n",
        "\n",
        "Python has three main logical operators:\n",
        "\n",
        "AND: Returns True if both operands are True, and False otherwise\n",
        "OR: Returns True if at least one operand is True, and False otherwise\n",
        "NOT: Returns the inverse boolean value of the operand\n",
        "\n",
        "Here are some examples of logical operators in Python:\n",
        "\n",
        "x > 0 and x < 10: True only if x is greater than 0 and less than 10\n",
        "n % 2 == 0 or n % 3 == 0: True if the number is divisible by 2 or divisible by 3\n",
        "person_has_debt and person_willing_to_play: True if both values are True\n"
      ],
      "metadata": {
        "id": "-4PuIydyXRhv"
      }
    },
    {
      "cell_type": "markdown",
      "source": [
        "question-9 what is type casting in python?\n",
        "\n",
        "\n",
        "\n",
        "answer- the process of changing a variable's data type to another data type:\n",
        "\n",
        "1. Implicit casting\n",
        "   Also known as automatic type conversion, this happens when the system handles the conversion without the programmer's intervention. It usually involves converting a \"smaller\" data type to a \"larger\" one to prevent data loss.\n",
        "\n",
        "2. Explicit casting\n",
        "   Also known as typecasting, this is when the programmer manually changes the data type using built-in functions like int(), string(), and float(). There's a chance of data loss if a particular data type is converted to another data type of a smaller size.\n",
        "\n"
      ],
      "metadata": {
        "id": "JPhlVQNFxSNb"
      }
    },
    {
      "cell_type": "markdown",
      "source": [
        "question- 10 what is the difference between implicit and explicit type casting?\n",
        "\n",
        "\n",
        "answer- The main difference between implicit and explicit type casting is that implicit type casting is automatic, while explicit type casting is manual:\n",
        "\n",
        "1. Implicit type casting\n",
        "   The compiler automatically converts a value to a different data type. This type of conversion usually succeeds and doesn't result in data loss. For example, in C#, implicit casting can convert a smaller type to a larger type size, like from char to int.\n",
        "2. Explicit type casting\n",
        "   The programmer manually forces the conversion by writing a cast expression. For example, in C#, explicit casting can convert a larger type to a smaller type size, like from double to char."
      ],
      "metadata": {
        "id": "s8llG2UrydLy"
      }
    },
    {
      "cell_type": "markdown",
      "source": [
        "question-11 what is the purpose of conitional statements in python?\n",
        "\n",
        "\n",
        "answer- The purpose of conditional statements in Python is to control the flow of a program by making decisions based on certain conditions. Conditional statements are also known as decision making statements.\n",
        "Conditional statements can make code more efficient and easier to read by avoiding long and complicated blocks of code. For example, you can use a conditional statement to print a message only if a certain condition is met.\n",
        "\n",
        "Here are some types of conditional statements in Python:\n",
        "\n",
        "1.  If: Executes a block of code if a condition is true\n",
        "2.  Else: Executes a different block of code if the if condition is false\n",
        "3.  Elif: Checks multiple conditions in sequence and executes different code\n",
        "   blocks depending on which condition is true\n",
        "\n",
        "Some operators used with conditional statements in Python include:\n",
        "\n",
        "1.  Equals (==): Checks if a variable is equal to another variable\n",
        "2.  Not Equals (!=): Checks if a variable is not equal to another variable\n",
        "3.  Greater Than (>): Checks if a variable is greater than another variable\n",
        "4.  Less Than (<): Checks if a variable is less than another variable\n",
        "5.  Greater Than or Equal to: Assesses if a variable is greater than or equal  \n",
        "     to another variable\n"
      ],
      "metadata": {
        "id": "eFZlhVGV0iRq"
      }
    },
    {
      "cell_type": "markdown",
      "source": [
        "question-12 how does the elif statement work?\n",
        "\n",
        "answer- if statements pair up with elif and else statements to perform a series\n",
        "of checks."
      ],
      "metadata": {
        "id": "j6hZRo-c16ig"
      }
    },
    {
      "cell_type": "markdown",
      "source": [
        "question-13 what is the difference between far and while loop?\n",
        "\n",
        "\n",
        "answer-  a for loop is used when you know how many times to repeat a block of code, while a while loop is used when you don't know how many times to repeat it:\n",
        "1. For loop\n",
        "   Used when you know the number of iterations in advance. A for loop is followed by initialization, expression, and increment statements. For example, if you want to check the grade of every student in a class, you would loop from 1 to the number of students.\n",
        "2. While loop\n",
        "   Used when you don't know how many times to repeat a block of code. A while loop executes the loop's contents as long as the expression evaluates to true. For example, if you want to ask a user for a number between 1 and 10, you would keep asking \"while the number is not between 1 and 10\"."
      ],
      "metadata": {
        "id": "sU21Gp9V37X3"
      }
    },
    {
      "cell_type": "markdown",
      "source": [
        "question-14 describe a scenario where a while loop is more suitable than a few loop?\n",
        "\n",
        "\n",
        "answer-  situations where the number of iterations is not predetermined and depends on some dynamic condition"
      ],
      "metadata": {
        "id": "DYtPX7c34kqP"
      }
    },
    {
      "cell_type": "markdown",
      "source": [
        "**Practical questions**"
      ],
      "metadata": {
        "id": "mQ2D3nVO5TJL"
      }
    },
    {
      "cell_type": "markdown",
      "source": [
        "1. Write a python to print \"hello, world!\""
      ],
      "metadata": {
        "id": "xNHvpvnl9tVB"
      }
    },
    {
      "cell_type": "code",
      "source": [
        "a = \"Hello, World!\"\n",
        "print(a)"
      ],
      "metadata": {
        "colab": {
          "base_uri": "https://localhost:8080/"
        },
        "id": "Jsh997Mv99cr",
        "outputId": "f2721204-7bf7-47a4-aac2-fe5f93fc513a"
      },
      "execution_count": null,
      "outputs": [
        {
          "output_type": "stream",
          "name": "stdout",
          "text": [
            "Hello, World!\n"
          ]
        }
      ]
    },
    {
      "cell_type": "markdown",
      "source": [
        "2. Write a python program that displays your name and age."
      ],
      "metadata": {
        "id": "jEGuxmI3-WQi"
      }
    },
    {
      "cell_type": "code",
      "source": [
        "name = input(\"enter your name: \")\n",
        "age = input(\"einter your age:  \")\n",
        "\n",
        "print(\"my name is: \" , name)\n",
        "print(\"i am of\", age, \"years old\" )"
      ],
      "metadata": {
        "colab": {
          "base_uri": "https://localhost:8080/"
        },
        "id": "EypgrvuC-qbr",
        "outputId": "9e57567f-fae9-4d67-fe98-126690646497"
      },
      "execution_count": null,
      "outputs": [
        {
          "output_type": "stream",
          "name": "stdout",
          "text": [
            "enter your name: sumit\n",
            "einter your age:  18\n",
            "my name is:  sumit\n",
            "i am of 18 years old\n"
          ]
        }
      ]
    },
    {
      "cell_type": "markdown",
      "source": [
        "3. Write code to print all pre- defined keywords in python using the keyword library."
      ],
      "metadata": {
        "id": "j9Uc4s5jKRI8"
      }
    },
    {
      "cell_type": "code",
      "source": [
        "import keyword\n",
        "print(keyword.kwlist)\n"
      ],
      "metadata": {
        "colab": {
          "base_uri": "https://localhost:8080/"
        },
        "id": "_j84-Vo5KKGW",
        "outputId": "9ec1974b-617c-43c2-e6ee-45d7bc88fd17"
      },
      "execution_count": null,
      "outputs": [
        {
          "output_type": "stream",
          "name": "stdout",
          "text": [
            "['False', 'None', 'True', 'and', 'as', 'assert', 'async', 'await', 'break', 'class', 'continue', 'def', 'del', 'elif', 'else', 'except', 'finally', 'for', 'from', 'global', 'if', 'import', 'in', 'is', 'lambda', 'nonlocal', 'not', 'or', 'pass', 'raise', 'return', 'try', 'while', 'with', 'yield']\n"
          ]
        }
      ]
    },
    {
      "cell_type": "markdown",
      "source": [
        "4. Write a program that checks if a given word is a python keyword."
      ],
      "metadata": {
        "id": "7VjDdhFxMMuU"
      }
    },
    {
      "cell_type": "code",
      "source": [
        "import keyword\n",
        "a = input(\"enter a word: \")\n",
        "if keyword.iskeyword(a):\n",
        "  print(a, \"is a python keyword\")\n",
        "else:\n",
        "  print(a, \"is not a python keyword\")\n",
        "\n"
      ],
      "metadata": {
        "colab": {
          "base_uri": "https://localhost:8080/"
        },
        "id": "llK6yFSuMgmv",
        "outputId": "f07cb01e-7771-488e-8f42-7200354cb932"
      },
      "execution_count": null,
      "outputs": [
        {
          "output_type": "stream",
          "name": "stdout",
          "text": [
            "enter a word: sumit\n",
            "sumit is not a python keyword\n"
          ]
        }
      ]
    },
    {
      "cell_type": "markdown",
      "source": [
        "5. Create a list and touple in python, and demonstrate how attempting to change an element works differently for each."
      ],
      "metadata": {
        "id": "ESp1fQKwNEic"
      }
    },
    {
      "cell_type": "code",
      "source": [
        "list = [\"mango\", \"apple\", 2, 2.5, True]\n",
        "list[0] = \"banana\"\n",
        "print(list)\n",
        "#list are mutable\n"
      ],
      "metadata": {
        "colab": {
          "base_uri": "https://localhost:8080/"
        },
        "id": "T0r_US2LNzsE",
        "outputId": "135bf2fe-7955-4f92-f344-30c03ce6dcd5"
      },
      "execution_count": null,
      "outputs": [
        {
          "output_type": "stream",
          "name": "stdout",
          "text": [
            "['banana', 'apple', 2, 2.5, True]\n"
          ]
        }
      ]
    },
    {
      "cell_type": "code",
      "source": [
        "touple = (\"mango\", \"apple\", 2, 2.5, True)\n",
        "touple[0] = \"banana\"\n",
        "print(touple)\n",
        "\n",
        "#get an error\n",
        "#touples are immutable so we can't change any element in touple"
      ],
      "metadata": {
        "colab": {
          "base_uri": "https://localhost:8080/",
          "height": 176
        },
        "id": "71KSAa0TPE2D",
        "outputId": "d1aa2cc1-1844-4fe7-ea5d-ff82c8471ccc"
      },
      "execution_count": null,
      "outputs": [
        {
          "output_type": "error",
          "ename": "TypeError",
          "evalue": "'tuple' object does not support item assignment",
          "traceback": [
            "\u001b[0;31m---------------------------------------------------------------------------\u001b[0m",
            "\u001b[0;31mTypeError\u001b[0m                                 Traceback (most recent call last)",
            "\u001b[0;32m<ipython-input-26-23d6543421f5>\u001b[0m in \u001b[0;36m<cell line: 2>\u001b[0;34m()\u001b[0m\n\u001b[1;32m      1\u001b[0m \u001b[0mtouple\u001b[0m \u001b[0;34m=\u001b[0m \u001b[0;34m(\u001b[0m\u001b[0;34m\"mango\"\u001b[0m\u001b[0;34m,\u001b[0m \u001b[0;34m\"apple\"\u001b[0m\u001b[0;34m,\u001b[0m \u001b[0;36m2\u001b[0m\u001b[0;34m,\u001b[0m \u001b[0;36m2.5\u001b[0m\u001b[0;34m,\u001b[0m \u001b[0;32mTrue\u001b[0m\u001b[0;34m)\u001b[0m\u001b[0;34m\u001b[0m\u001b[0;34m\u001b[0m\u001b[0m\n\u001b[0;32m----> 2\u001b[0;31m \u001b[0mtouple\u001b[0m\u001b[0;34m[\u001b[0m\u001b[0;36m0\u001b[0m\u001b[0;34m]\u001b[0m \u001b[0;34m=\u001b[0m \u001b[0;34m\"banana\"\u001b[0m\u001b[0;34m\u001b[0m\u001b[0;34m\u001b[0m\u001b[0m\n\u001b[0m\u001b[1;32m      3\u001b[0m \u001b[0mprint\u001b[0m\u001b[0;34m(\u001b[0m\u001b[0mtouple\u001b[0m\u001b[0;34m)\u001b[0m\u001b[0;34m\u001b[0m\u001b[0;34m\u001b[0m\u001b[0m\n",
            "\u001b[0;31mTypeError\u001b[0m: 'tuple' object does not support item assignment"
          ]
        }
      ]
    },
    {
      "cell_type": "markdown",
      "source": [
        "6. write a funtion to demonstrate the behavior of mutable and immutable arguments."
      ],
      "metadata": {
        "id": "qTPPcl6KP-Kb"
      }
    },
    {
      "cell_type": "code",
      "source": [
        "def modify_immutable(num):\n",
        "    num += 1\n",
        "    print(f\"Inside function: num = {num}\")\n",
        "\n",
        "def modify_mutable(my_list):\n",
        "    my_list.append(4)\n",
        "    print(f\"Inside function: my_list = {my_list}\")\n",
        "\n",
        "original_num = 5\n",
        "print(f\"Before function call: original_num = {original_num}\")\n",
        "modify_immutable(original_num)\n",
        "print(f\"After function call: original_num = {original_num}\")\n",
        "\n",
        "my_list = [1, 2, 3]\n",
        "print(f\"Before function call: my_list = {my_list}\")\n",
        "modify_mutable(my_list)\n",
        "print(f\"After function call: my_list = {my_list}\")"
      ],
      "metadata": {
        "id": "zFrL9-ipQZzT",
        "colab": {
          "base_uri": "https://localhost:8080/"
        },
        "outputId": "5fdecbe7-5c69-43f1-db57-449a5f1a4079"
      },
      "execution_count": 13,
      "outputs": [
        {
          "output_type": "stream",
          "name": "stdout",
          "text": [
            "Before function call: original_num = 5\n",
            "Inside function: num = 6\n",
            "After function call: original_num = 5\n",
            "Before function call: my_list = [1, 2, 3]\n",
            "Inside function: my_list = [1, 2, 3, 4]\n",
            "After function call: my_list = [1, 2, 3, 4]\n"
          ]
        }
      ]
    },
    {
      "cell_type": "markdown",
      "source": [
        "7. write a funtion to demonstrate the behavior of mutable and immutable arguments."
      ],
      "metadata": {
        "id": "5rX3JthDJT2k"
      }
    },
    {
      "cell_type": "code",
      "source": [
        "def modify_immutable(num):\n",
        "    num += 1\n",
        "    print(f\"Inside function: num = {num}\")\n",
        "\n",
        "def modify_mutable(my_list):\n",
        "    my_list.append(4)\n",
        "    print(f\"Inside function: my_list = {my_list}\")\n",
        "\n",
        "original_num = 5\n",
        "print(f\"Before function call: original_num = {original_num}\")\n",
        "modify_immutable(original_num)\n",
        "print(f\"After function call: original_num = {original_num}\")\n",
        "\n",
        "my_list = [1, 2, 3]\n",
        "print(f\"Before function call: my_list = {my_list}\")\n",
        "modify_mutable(my_list)\n",
        "print(f\"After function call: my_list = {my_list}\")"
      ],
      "metadata": {
        "colab": {
          "base_uri": "https://localhost:8080/"
        },
        "id": "kvRN1ovVJV8E",
        "outputId": "57b3274d-5381-4807-f410-b35d167f70d3"
      },
      "execution_count": 11,
      "outputs": [
        {
          "output_type": "stream",
          "name": "stdout",
          "text": [
            "['banana', 'apple', 2, 2.5, True]\n"
          ]
        }
      ]
    },
    {
      "cell_type": "markdown",
      "source": [
        "8. write a program to demonstrate the of logical operators."
      ],
      "metadata": {
        "id": "E-25RiwoRBXL"
      }
    },
    {
      "cell_type": "code",
      "source": [
        "a = True\n",
        "b = False\n",
        "print(\"AND OPERATOR\")\n",
        "print(a and b)\n",
        "print(\"OR OPERATOR\")\n",
        "print(a or b)\n",
        "print(\"NOT OPERATOR\")\n",
        "print(not a)\n",
        "print(not b)\n",
        "#"
      ],
      "metadata": {
        "id": "e02Kgy1qRXy7",
        "colab": {
          "base_uri": "https://localhost:8080/"
        },
        "outputId": "0b3f8065-b124-48d5-be4d-20b6c3a526b7"
      },
      "execution_count": 3,
      "outputs": [
        {
          "output_type": "stream",
          "name": "stdout",
          "text": [
            "AND OPERATOR\n",
            "False\n",
            "OR OPERATOR\n",
            "True\n",
            "NOT OPERATOR\n",
            "False\n",
            "True\n"
          ]
        }
      ]
    },
    {
      "cell_type": "markdown",
      "source": [
        "9. write a python program to convert user input from string to integer,float,and boolean types."
      ],
      "metadata": {
        "id": "boTpIDRBSlkq"
      }
    },
    {
      "cell_type": "code",
      "source": [
        "\n",
        "\n",
        "a= input(\"Enter a string to change it's type\")\n",
        "b= input(\"Select type - Integer Float Boolean\")\n",
        "if b==\"Integer\":\n",
        "  print(int(a))\n",
        "elif b==\"Float\":\n",
        "  print(float(a))\n",
        "elif b==\"Boolean\":\n",
        "  print(bool(a))\n",
        "else:\n",
        "  print(\"Invalid Input\")"
      ],
      "metadata": {
        "colab": {
          "base_uri": "https://localhost:8080/"
        },
        "id": "8wQnZWcXTCjy",
        "outputId": "4b6394d5-1d9e-4b91-bce4-dccc5dd8a55a"
      },
      "execution_count": 14,
      "outputs": [
        {
          "output_type": "stream",
          "name": "stdout",
          "text": [
            "Enter a string to change it's type5\n",
            "Select type - Integer Float BooleanInteger\n",
            "5\n"
          ]
        }
      ]
    },
    {
      "cell_type": "markdown",
      "source": [
        "10. Write code to demonstrate type casting with list elements."
      ],
      "metadata": {
        "id": "Ll_HAh4qVh3Y"
      }
    },
    {
      "cell_type": "code",
      "source": [
        "list = [1, 2, 3, 4, 5]\n",
        "for i in range(len(list)):\n",
        "  list[i] = float(list[i])\n",
        "print(list)"
      ],
      "metadata": {
        "colab": {
          "base_uri": "https://localhost:8080/"
        },
        "id": "Ao2o1PcdV3-w",
        "outputId": "3aa0ebb1-7375-48bb-9d60-f6da55be1a8f"
      },
      "execution_count": 15,
      "outputs": [
        {
          "output_type": "stream",
          "name": "stdout",
          "text": [
            "[1.0, 2.0, 3.0, 4.0, 5.0]\n"
          ]
        }
      ]
    },
    {
      "cell_type": "markdown",
      "source": [
        "11. write a program that checks if a number is positive, negative, or zero"
      ],
      "metadata": {
        "id": "BhwpJIM_WWJR"
      }
    },
    {
      "cell_type": "code",
      "source": [
        "a = int(input(\"enter your number: \"))\n",
        "if a>0:\n",
        "  print(\"number is postive\")\n",
        "elif a<0:\n",
        "  print(\"number is negative\")\n",
        "else:\n",
        "  print(\"number is zero\")"
      ],
      "metadata": {
        "colab": {
          "base_uri": "https://localhost:8080/"
        },
        "id": "H8ulDMTvW6L2",
        "outputId": "4c4e2684-6a79-49ed-8e49-ee3a7c7d8571"
      },
      "execution_count": 5,
      "outputs": [
        {
          "output_type": "stream",
          "name": "stdout",
          "text": [
            "enter your number: 45\n",
            "number is postive\n"
          ]
        }
      ]
    },
    {
      "cell_type": "markdown",
      "source": [
        "12. What a for loop to print number 1 to 10."
      ],
      "metadata": {
        "id": "wyRx8QB4Yn_H"
      }
    },
    {
      "cell_type": "code",
      "source": [
        "\n",
        "for i in range(1, 11):\n",
        "  print(i)"
      ],
      "metadata": {
        "colab": {
          "base_uri": "https://localhost:8080/"
        },
        "id": "NbdY3_FLYgXv",
        "outputId": "5bfdcacc-e37c-4c16-c126-2a048aef1189"
      },
      "execution_count": 20,
      "outputs": [
        {
          "output_type": "stream",
          "name": "stdout",
          "text": [
            "1\n",
            "2\n",
            "3\n",
            "4\n",
            "5\n",
            "6\n",
            "7\n",
            "8\n",
            "9\n",
            "10\n"
          ]
        }
      ]
    },
    {
      "cell_type": "markdown",
      "source": [
        "13. Write a python program to find the sum of all even numbers between 1 to 50."
      ],
      "metadata": {
        "id": "m-jbCT_pZKwn"
      }
    },
    {
      "cell_type": "code",
      "source": [
        "\n",
        "\n",
        "a = 0\n",
        "for i in range(0, 51):\n",
        "  if i%2==0:\n",
        "    a = a+i\n",
        "print(\"The Sum of even numbers from 1 to 50 is\",a)"
      ],
      "metadata": {
        "id": "-HYXhvSCaRru",
        "colab": {
          "base_uri": "https://localhost:8080/"
        },
        "outputId": "96821342-7cc8-4d0e-94e0-f09bc4b3ee2b"
      },
      "execution_count": 22,
      "outputs": [
        {
          "output_type": "stream",
          "name": "stdout",
          "text": [
            "The Sum of even numbers from 1 to 50 is 650\n"
          ]
        }
      ]
    },
    {
      "cell_type": "markdown",
      "source": [
        "14. Write a program to reverse a string using a while loop."
      ],
      "metadata": {
        "id": "3kI3_q-EaZ7W"
      }
    },
    {
      "cell_type": "code",
      "source": [
        "input1 = input(\"enter ur strings to be reversed: \" )\n",
        "index = (len(input1)-1)\n",
        "while(index>=0):\n",
        "  print(input1[index],end =\"\")\n",
        "  index = index-1"
      ],
      "metadata": {
        "colab": {
          "base_uri": "https://localhost:8080/"
        },
        "id": "fuOHWQ_5aYeO",
        "outputId": "1ae243e4-fb43-4573-acb2-79f676364009"
      },
      "execution_count": 27,
      "outputs": [
        {
          "output_type": "stream",
          "name": "stdout",
          "text": [
            "enter ur strings to be reversed: sumit\n",
            "timus"
          ]
        }
      ]
    },
    {
      "cell_type": "markdown",
      "source": [
        "15- Write a Python program to calculate the factorial of a number provided by the user using a while loop."
      ],
      "metadata": {
        "id": "330jirbfH8K1"
      }
    },
    {
      "cell_type": "code",
      "source": [
        "\n",
        "\n",
        "a = int(input(\"Enter a number\"))\n",
        "b = 1\n",
        "while a > 0:\n",
        "  b = a*b\n",
        "  a = a-1\n",
        "print(b)"
      ],
      "metadata": {
        "colab": {
          "base_uri": "https://localhost:8080/"
        },
        "id": "knma0-_YH9iT",
        "outputId": "e4bfb3fb-a82e-40ed-9d5e-d282770f36b9"
      },
      "execution_count": 33,
      "outputs": [
        {
          "output_type": "stream",
          "name": "stdout",
          "text": [
            "Enter a number5\n",
            "120\n"
          ]
        }
      ]
    }
  ]
}